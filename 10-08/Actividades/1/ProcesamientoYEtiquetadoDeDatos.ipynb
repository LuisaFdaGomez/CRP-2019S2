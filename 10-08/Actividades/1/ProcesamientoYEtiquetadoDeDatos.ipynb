{
 "cells": [
  {
   "cell_type": "markdown",
   "metadata": {},
   "source": [
    "# Procesamiento y Etiquetado de Datos"
   ]
  },
  {
   "cell_type": "markdown",
   "metadata": {},
   "source": [
    "**Docente:** Ph.D. John William Branch  \n",
    "**Asistente de Docencia:** Sergio Robles\n",
    "\n",
    "Clasificación y Reconocimiento de Patrones  \n",
    "Universidad Nacional - Sede Medellin"
   ]
  },
  {
   "cell_type": "markdown",
   "metadata": {},
   "source": [
    "## Librerías"
   ]
  },
  {
   "cell_type": "markdown",
   "metadata": {},
   "source": [
    "Librerías y paquetes de python a utilizar en el siguiente notebook.  \n",
    "(Deben estar previamente instalados)"
   ]
  },
  {
   "cell_type": "code",
   "execution_count": null,
   "metadata": {},
   "outputs": [],
   "source": [
    "%matplotlib inline\n",
    "import random\n",
    "import numpy as np\n",
    "import pandas as pd\n",
    "import cv2\n",
    "import matplotlib.pyplot as plt\n",
    "import skimage as sk\n",
    "from skimage import transform\n",
    "from skimage import util\n",
    "from sklearn import preprocessing\n",
    "from scipy import ndarray"
   ]
  },
  {
   "cell_type": "code",
   "execution_count": null,
   "metadata": {},
   "outputs": [],
   "source": [
    "# Utils\n",
    "def random_rotation(image_array: ndarray):\n",
    "    # pick a random degree of rotation between 25% on the left and 25% on the right\n",
    "    random_degree = random.uniform(-25, 25)\n",
    "    return sk.transform.rotate(image_array, random_degree)\n",
    "\n",
    "def random_noise(image_array: ndarray):\n",
    "    # add random noise to the image\n",
    "    return sk.util.random_noise(image_array)\n",
    "\n",
    "def horizontal_flip(image_array: ndarray):\n",
    "    # horizontal flip doesn't need skimage, it's easy as flipping the image array of pixels !\n",
    "    return image_array[:, ::-1]"
   ]
  },
  {
   "cell_type": "markdown",
   "metadata": {},
   "source": [
    "## Datos Estructurados"
   ]
  },
  {
   "cell_type": "markdown",
   "metadata": {},
   "source": [
    "Los datos estructurados son aquellos que estan organizados en variables o atributos. Comunmente se presentan o almacenan en matrices donde cada ejemplo es una fila de la matriz, y cada atributo, una columna."
   ]
  },
  {
   "cell_type": "code",
   "execution_count": null,
   "metadata": {},
   "outputs": [],
   "source": [
    "# Tip: utilizar la librería pandas\n",
    "# Tip: data/data.csv\n",
    "\n",
    "# ESCRIBA SU CÓDIGO AQUÍ"
   ]
  },
  {
   "cell_type": "code",
   "execution_count": null,
   "metadata": {},
   "outputs": [],
   "source": [
    "# Imprimir los primeros 5 ejemplos\n",
    "\n",
    "# ESCRIBA SU CÓDIGO AQUÍ"
   ]
  },
  {
   "cell_type": "code",
   "execution_count": null,
   "metadata": {
    "scrolled": true
   },
   "outputs": [],
   "source": [
    "# Imprimir el tamaño del DataFrame\n",
    "\n",
    "# ESCRIBA SU CÓDIGO AQUÍ"
   ]
  },
  {
   "cell_type": "markdown",
   "metadata": {},
   "source": [
    "### Procesamiento de Datos"
   ]
  },
  {
   "cell_type": "markdown",
   "metadata": {},
   "source": [
    "Aunque los datos estructurados esten organizados por atributos, no siempre se obtienen con las mejores condiciones. Debido a esto muchos conjuntos de datos pueden tener datos faltantes, datos errados, valores no estandarizados, etc.  \n",
    "Por esto se busca realizar ciertas operaciones o procesamiento para mejorar la calidad de los datos."
   ]
  },
  {
   "cell_type": "markdown",
   "metadata": {},
   "source": [
    "### Datos Nulos"
   ]
  },
  {
   "cell_type": "code",
   "execution_count": null,
   "metadata": {},
   "outputs": [],
   "source": [
    "# Eliminar las filas donde al menos un dato sea nulo\n",
    "# Tip: pandas dropna()\n",
    "\n",
    "# ESCRIBA SU CÓDIGO AQUÍ"
   ]
  },
  {
   "cell_type": "code",
   "execution_count": null,
   "metadata": {},
   "outputs": [],
   "source": [
    "# Imprime el tamaño del nuevo DataFrame\n",
    "\n",
    "# ESCRIBA SU CÓDIGO AQUÍ"
   ]
  },
  {
   "cell_type": "markdown",
   "metadata": {},
   "source": [
    "### Nuevos Atributos"
   ]
  },
  {
   "cell_type": "code",
   "execution_count": null,
   "metadata": {},
   "outputs": [],
   "source": [
    "# Crear un nuevo atributo (columna) en el DataFrame que sea una tupla así: (latitud, longitud)\n",
    "# Tip: Utilizar list y zip de python\n",
    "\n",
    "# ESCRIBA SU CÓDIGO AQUÍ"
   ]
  },
  {
   "cell_type": "code",
   "execution_count": null,
   "metadata": {},
   "outputs": [],
   "source": [
    "# Crear dos nuevos atributos (columnas) en el DataFrame donde una sea la fecha y la otra la hora\n",
    "# Tip: Utilizar funciones lambda\n",
    "\n",
    "# ESCRIBA SU CÓDIGO AQUÍ"
   ]
  },
  {
   "cell_type": "code",
   "execution_count": null,
   "metadata": {},
   "outputs": [],
   "source": [
    "# Crear un nuevo atributo (columna) en el DataFrame que sea el número del día de la semana (Domingo 1 - Sabado 7)\n",
    "# Tip: Utilizar funciones lambda\n",
    "\n",
    "# ESCRIBA SU CÓDIGO AQUÍ"
   ]
  },
  {
   "cell_type": "markdown",
   "metadata": {},
   "source": [
    "### Variables dummies"
   ]
  },
  {
   "cell_type": "markdown",
   "metadata": {},
   "source": [
    "Las variables o atributos categóricos son problemáticos a la hora de aplicar algunos métodos estadísticos y matemáticos. Para esto, se utiliza una técnica para generar nuevas variables que representen el dato de los atributos categóricos. Estas variables reciben el nombre de variables \"dummies\"."
   ]
  },
  {
   "cell_type": "code",
   "execution_count": null,
   "metadata": {},
   "outputs": [],
   "source": [
    "# Crear variabels dummies para el atributo UCR_PART\n",
    "# Tip: Revisar documentación de pandas\n",
    "\n",
    "# ESCRIBA SU CÓDIGO AQUÍ"
   ]
  },
  {
   "cell_type": "code",
   "execution_count": null,
   "metadata": {},
   "outputs": [],
   "source": [
    "# Imprimir los primeros 5 ejemplos\n",
    "\n",
    "# ESCRIBA SU CÓDIGO AQUÍ"
   ]
  },
  {
   "cell_type": "markdown",
   "metadata": {},
   "source": [
    "### Análisis Estadístico"
   ]
  },
  {
   "cell_type": "markdown",
   "metadata": {},
   "source": [
    "Al realizar análisis estadístico es posible concluir premisas erradas. Esto por la poco o baja calidad que pueden tener los datos. Por esto, se realizó todo un procesamiento con el fin de mejorar la precisión de los resultados estadísticos."
   ]
  },
  {
   "cell_type": "code",
   "execution_count": null,
   "metadata": {
    "scrolled": false
   },
   "outputs": [],
   "source": [
    "# Contar cuantos crimenes se realizaron por cada hora única\n",
    "# Tip: Utilizar groupby de pandas\n",
    "\n",
    "# ESCRIBA SU CÓDIGO AQUÍ"
   ]
  },
  {
   "cell_type": "code",
   "execution_count": null,
   "metadata": {
    "scrolled": true
   },
   "outputs": [],
   "source": [
    "# Imprimir la media de las horas de crimenes realizados por cada día único\n",
    "# Tip: Utilizar groupby de pandas\n",
    "\n",
    "# ESCRIBA SU CÓDIGO AQUÍ"
   ]
  },
  {
   "cell_type": "markdown",
   "metadata": {},
   "source": [
    "### Normalización y Otros"
   ]
  },
  {
   "cell_type": "markdown",
   "metadata": {},
   "source": [
    "La normalización de los datos es un paso importante en la utilizacón de modelos matemáticos y computacionales. Esta le permite a los modelos a utilizar encontrar el resultado en un menor número de pasos y/o repeticiones, así como mejorar la precisión entre las diferentes dimensiones (variables) que los datos puedan tener."
   ]
  },
  {
   "cell_type": "code",
   "execution_count": null,
   "metadata": {},
   "outputs": [],
   "source": [
    "xs = np.random.uniform(-5, 5, (100))\n",
    "ys = np.random.uniform(-5, 5, (100))"
   ]
  },
  {
   "cell_type": "code",
   "execution_count": null,
   "metadata": {},
   "outputs": [],
   "source": [
    "plt.plot(xs, ys, 'ro')\n",
    "plt.axis([-6, 6, -6, 6])"
   ]
  },
  {
   "cell_type": "code",
   "execution_count": null,
   "metadata": {},
   "outputs": [],
   "source": [
    "X_scaled = preprocessing.scale(xs)\n",
    "Y_scaled = preprocessing.scale(ys)"
   ]
  },
  {
   "cell_type": "code",
   "execution_count": null,
   "metadata": {},
   "outputs": [],
   "source": [
    "plt.plot(X_scaled, Y_scaled, 'bo')\n",
    "plt.axis([-5, 5, -5, 5])"
   ]
  },
  {
   "cell_type": "code",
   "execution_count": null,
   "metadata": {},
   "outputs": [],
   "source": [
    "X_normalized = preprocessing.normalize([X_scaled], norm='l2')\n",
    "Y_normalized = preprocessing.normalize([Y_scaled], norm='l2')"
   ]
  },
  {
   "cell_type": "code",
   "execution_count": null,
   "metadata": {},
   "outputs": [],
   "source": [
    "plt.plot(X_normalized, Y_normalized, 'go')\n",
    "plt.axis([-0.5, 0.5, -0.5, 0.5])"
   ]
  },
  {
   "cell_type": "markdown",
   "metadata": {},
   "source": [
    "## Datos No Estructurados"
   ]
  },
  {
   "cell_type": "markdown",
   "metadata": {},
   "source": [
    "Los datos **no** estructurados se procesan diferente a los estructurados. Esto porque estos tipos de datos poseen características diferentes. Por ejemplo, una imagen tiene sus datos distribuidos de manera espacial, por lo que contiene más información que la que a simple vista se puede observar."
   ]
  },
  {
   "cell_type": "code",
   "execution_count": null,
   "metadata": {},
   "outputs": [],
   "source": [
    "images = []\n",
    "data = []"
   ]
  },
  {
   "cell_type": "code",
   "execution_count": null,
   "metadata": {},
   "outputs": [],
   "source": [
    "# Leer las 11 imagenes almacenadas en la ruta data/images y almacenarlas en el array images\n",
    "# Tip: Utilizar opencv\n",
    "# Tip: Las imagenes a través de opencv son leidas en formato BGR, cambiar el formato a RGB\n",
    "\n",
    "# ESCRIBA SU CÓDIGO AQUÍ"
   ]
  },
  {
   "cell_type": "code",
   "execution_count": null,
   "metadata": {
    "scrolled": true
   },
   "outputs": [],
   "source": [
    "# Imprimir una imagen leida\n",
    "# Tip: Utilizar matplotlib\n",
    "\n",
    "# ESCRIBA SU CÓDIGO AQUÍ"
   ]
  },
  {
   "cell_type": "markdown",
   "metadata": {},
   "source": [
    "### Etiquetado"
   ]
  },
  {
   "cell_type": "markdown",
   "metadata": {},
   "source": [
    "El etiquetado en un sistema de clasificación de patrones es una de las tareas más importantes. Esto porque un computador \"aprende\" a resolver un problema de una manera distinta a la de un humano. El se basa en los datos o ejemplos que sea posible observar. Por esto, si el etiquetado de un conjunto de datos está mal elaborado, el computador no podrá resolver el problema de manera óptima."
   ]
  },
  {
   "cell_type": "code",
   "execution_count": null,
   "metadata": {},
   "outputs": [],
   "source": [
    "label = []"
   ]
  },
  {
   "cell_type": "code",
   "execution_count": null,
   "metadata": {},
   "outputs": [],
   "source": [
    "# Realizar un etiquetado manual de las imagenes almacenadas en la variable images y almacenarlos en la variable label\n",
    "# Tip: Utilizar groupby de pandas\n",
    "\n",
    "# ESCRIBA SU CÓDIGO AQUÍ"
   ]
  },
  {
   "cell_type": "markdown",
   "metadata": {},
   "source": [
    "### Normalización y Otros"
   ]
  },
  {
   "cell_type": "markdown",
   "metadata": {},
   "source": [
    "Los datos no estructurados también pueden ser normalizados. Para las imágenes se realizan 3 tipos de procesos importantes: ajustar dimensionalidad (Resize), normalizar valores de intensidad (Normalize) y aumentar el dato (Augmentation Data)"
   ]
  },
  {
   "cell_type": "code",
   "execution_count": null,
   "metadata": {},
   "outputs": [],
   "source": [
    "images_resize = []"
   ]
  },
  {
   "cell_type": "code",
   "execution_count": null,
   "metadata": {},
   "outputs": [],
   "source": [
    "# Realizar un resize a las imagenes almacenas y guardarlas en la variable images_resize (128x128)\n",
    "# Tip: Utilizar opencv\n",
    "\n",
    "# ESCRIBA SU CÓDIGO AQUÍ"
   ]
  },
  {
   "cell_type": "code",
   "execution_count": null,
   "metadata": {},
   "outputs": [],
   "source": [
    "images_normalize = []"
   ]
  },
  {
   "cell_type": "code",
   "execution_count": null,
   "metadata": {},
   "outputs": [],
   "source": [
    "for i in images_resize:\n",
    "    aux = cv2.normalize(i, None, alpha=0, beta=1, norm_type=cv2.NORM_MINMAX, dtype=cv2.CV_32F)\n",
    "    images_normalize.append(aux)"
   ]
  },
  {
   "cell_type": "markdown",
   "metadata": {},
   "source": [
    "### Images augmentation"
   ]
  },
  {
   "cell_type": "code",
   "execution_count": null,
   "metadata": {},
   "outputs": [],
   "source": [
    "images = images_normalize"
   ]
  },
  {
   "cell_type": "code",
   "execution_count": null,
   "metadata": {},
   "outputs": [],
   "source": [
    "available_transformations = {\n",
    "    'rotate': random_rotation,\n",
    "    'noise': random_noise,\n",
    "    'horizontal_flip': horizontal_flip\n",
    "}\n",
    "\n",
    "augmentation_images = []\n",
    "for img in images:\n",
    "    num_transformations_to_apply = random.randint(1, len(available_transformations))\n",
    "    num_transformations = 0\n",
    "    transformed_image = None\n",
    "    while num_transformations <= num_transformations_to_apply:\n",
    "        # choose a random transformation to apply for a single image\n",
    "        key = random.choice(list(available_transformations))\n",
    "        img = random.choice(list(images))\n",
    "        transformed_image = available_transformations[key](img)\n",
    "        num_transformations += 1\n",
    "        augmentation_images.append(transformed_image)"
   ]
  },
  {
   "cell_type": "code",
   "execution_count": null,
   "metadata": {},
   "outputs": [],
   "source": [
    "plt.imshow(augmentation_images[8])"
   ]
  }
 ],
 "metadata": {
  "kernelspec": {
   "display_name": "Python 3",
   "language": "python",
   "name": "python3"
  },
  "language_info": {
   "codemirror_mode": {
    "name": "ipython",
    "version": 3
   },
   "file_extension": ".py",
   "mimetype": "text/x-python",
   "name": "python",
   "nbconvert_exporter": "python",
   "pygments_lexer": "ipython3",
   "version": "3.7.4"
  }
 },
 "nbformat": 4,
 "nbformat_minor": 2
}
